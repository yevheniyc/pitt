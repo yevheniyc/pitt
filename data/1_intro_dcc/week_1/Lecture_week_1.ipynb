{
 "cells": [
  {
   "cell_type": "markdown",
   "id": "cf2944af-6531-4832-9086-4510002695b4",
   "metadata": {},
   "source": [
    "## Supervised Learning Process"
   ]
  },
  {
   "cell_type": "markdown",
   "id": "4a003874-382d-4604-b592-ae060a21ba32",
   "metadata": {},
   "source": [
    "1. Data Contextualization: Join and Merge data together\n",
    "2. Data Cleaning: remove duplicates, deal with missing values\n",
    "3. Data Preprocessing: addition, deletion and transformation of data\n",
    "    - Preprocessing impacts model interpretation\n",
    "    - Different preprocessing steps can occure for different models that are being trained, so it is different from cleaning\n",
    "4. Training/Testing - Perfrom train and test splitting multiple times with the process known as Resampling\n",
    "5. Summarization - Model performance is then evaluated based on the performance across the different test sets "
   ]
  },
  {
   "cell_type": "markdown",
   "id": "cdc07825-e75e-4442-ae4c-9f12d4b30b23",
   "metadata": {},
   "source": [
    "## Overfitting\n",
    "How do we ensure that the model is not only good at explaining (fitting) that particular data and will not perform poorly on the new data? This is a problem called overfitting and one of the ways to solve this is to split the dataset into Training and Test sets. However, what if this splitting of the data will show a great fit but only because we got lucky? To unsure that this is not the case, we will perform training and test split multiple times. This strategy is known as `resampling`. \n",
    "\n",
    "`Resampling` - For each training/test split, train the model and evaluate the model performance on the test set. \n",
    "\n",
    "`Summarize` - an individual model's performance is then summarized based on the performance across the different test sets. "
   ]
  },
  {
   "cell_type": "markdown",
   "id": "66d39b84-00d3-4062-a8d4-fd6677022f51",
   "metadata": {},
   "source": [
    "## Complete Supervised Learning (Predictive Analytics) Workflow\n",
    "![Supervised Learning Workflow](./images/supervised_learning_workflow.png)\n"
   ]
  }
 ],
 "metadata": {
  "kernelspec": {
   "display_name": ".venv",
   "language": "python",
   "name": "python3"
  },
  "language_info": {
   "codemirror_mode": {
    "name": "ipython",
    "version": 3
   },
   "file_extension": ".py",
   "mimetype": "text/x-python",
   "name": "python",
   "nbconvert_exporter": "python",
   "pygments_lexer": "ipython3",
   "version": "3.13.0"
  }
 },
 "nbformat": 4,
 "nbformat_minor": 5
}
