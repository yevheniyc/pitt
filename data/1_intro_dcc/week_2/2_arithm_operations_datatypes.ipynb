{
 "cells": [
  {
   "cell_type": "markdown",
   "id": "4b1bc21a",
   "metadata": {},
   "source": [
    "## CMPINF 2100 Week 02\n",
    "\n",
    "### Arithmetic operators, data types, and overloading\n",
    "\n",
    "Basic arithmetic operators such as addition, `+`, and  multiplication, `*`, work as you would expect with integers and floats. For example let's use Python as a calculator add 4 and 8 together."
   ]
  },
  {
   "cell_type": "code",
   "execution_count": 1,
   "id": "fc9ce387",
   "metadata": {},
   "outputs": [
    {
     "data": {
      "text/plain": [
       "12"
      ]
     },
     "execution_count": 1,
     "metadata": {},
     "output_type": "execute_result"
    }
   ],
   "source": [
    "4 + 8"
   ]
  },
  {
   "cell_type": "markdown",
   "id": "4b303d28",
   "metadata": {},
   "source": [
    "Next, let's multiply 4 and 8:"
   ]
  },
  {
   "cell_type": "code",
   "execution_count": 2,
   "id": "b83347c8",
   "metadata": {},
   "outputs": [
    {
     "data": {
      "text/plain": [
       "32"
      ]
     },
     "execution_count": 2,
     "metadata": {},
     "output_type": "execute_result"
    }
   ],
   "source": [
    "4 * 8"
   ]
  },
  {
   "cell_type": "markdown",
   "id": "4d16df90",
   "metadata": {},
   "source": [
    "We get the expected results when we work with floats as well."
   ]
  },
  {
   "cell_type": "code",
   "execution_count": 3,
   "id": "0462623d",
   "metadata": {},
   "outputs": [
    {
     "name": "stdout",
     "output_type": "stream",
     "text": [
      "12.0\n",
      "32.0\n"
     ]
    }
   ],
   "source": [
    "print( 4.0 + 8.0 )\n",
    "\n",
    "print( 4.0 * 8.0 )"
   ]
  },
  {
   "cell_type": "markdown",
   "id": "f69e94ec",
   "metadata": {},
   "source": [
    "Python understands the operation associated with `+` and `*`. However, the **exact operation depends on the data type of the objects the operator is applied to**! Instead of working with numeric objects (integers or floats) let's instead work with strings. We will write out the words for the numbers, `'four'` and `'eight'`. What happens if we \"add\" the two strings together?"
   ]
  },
  {
   "cell_type": "code",
   "execution_count": 4,
   "id": "1388c269",
   "metadata": {},
   "outputs": [
    {
     "data": {
      "text/plain": [
       "'foureight'"
      ]
     },
     "execution_count": 4,
     "metadata": {},
     "output_type": "execute_result"
    }
   ],
   "source": [
    "'four' + 'eight'"
   ]
  },
  {
   "cell_type": "markdown",
   "id": "011fe05e",
   "metadata": {},
   "source": [
    "Python combines the two strings together into a single string. This is a useful shortcut for *concatenating* multiple strings together. For example, we could include a space between the two words:"
   ]
  },
  {
   "cell_type": "code",
   "execution_count": 5,
   "id": "5c902dd7",
   "metadata": {},
   "outputs": [
    {
     "data": {
      "text/plain": [
       "'four eight'"
      ]
     },
     "execution_count": 5,
     "metadata": {},
     "output_type": "execute_result"
    }
   ],
   "source": [
    "'four' + ' ' + 'eight'"
   ]
  },
  {
   "cell_type": "markdown",
   "id": "68f50d98",
   "metadata": {},
   "source": [
    "Next, let's consider the `*` operator. Instead of working with two strings, we will use the `'four'` string by itself. Let's see what happens if we multiply the integer `4` by the string `'four'`:"
   ]
  },
  {
   "cell_type": "code",
   "execution_count": 6,
   "id": "d7ca2d19",
   "metadata": {},
   "outputs": [
    {
     "data": {
      "text/plain": [
       "'fourfourfourfour'"
      ]
     },
     "execution_count": 6,
     "metadata": {},
     "output_type": "execute_result"
    }
   ],
   "source": [
    "4 * 'four'"
   ]
  },
  {
   "cell_type": "markdown",
   "id": "f324eb9d",
   "metadata": {},
   "source": [
    "The result is a little difficult to read. So let's instead work with a string, `'four '` which has an extra white space at the end of the string:"
   ]
  },
  {
   "cell_type": "code",
   "execution_count": 7,
   "id": "58737d93",
   "metadata": {},
   "outputs": [
    {
     "data": {
      "text/plain": [
       "'four four four four '"
      ]
     },
     "execution_count": 7,
     "metadata": {},
     "output_type": "execute_result"
    }
   ],
   "source": [
    "4 * 'four '"
   ]
  },
  {
   "cell_type": "markdown",
   "id": "8a1e0d84",
   "metadata": {},
   "source": [
    "When we are working with strings the `*` operator represents **replicating** or **repeating** the string a specified number of times. \n",
    "\n",
    "Next, let's see how these operators behave when we are working with lists. The cell below defines two lists, `x1` and `x2`."
   ]
  },
  {
   "cell_type": "code",
   "execution_count": 8,
   "id": "2462d6e4",
   "metadata": {},
   "outputs": [],
   "source": [
    "x1 = [1, 2, 3, 4]\n",
    "\n",
    "x2 = ['one', 'two', 'three', 'four']"
   ]
  },
  {
   "cell_type": "markdown",
   "id": "1f702fa9",
   "metadata": {},
   "source": [
    "The `+` operator combines the two lists together:"
   ]
  },
  {
   "cell_type": "code",
   "execution_count": 9,
   "id": "6b448f28",
   "metadata": {},
   "outputs": [
    {
     "data": {
      "text/plain": [
       "[1, 2, 3, 4, 'one', 'two', 'three', 'four']"
      ]
     },
     "execution_count": 9,
     "metadata": {},
     "output_type": "execute_result"
    }
   ],
   "source": [
    "x1 + x2"
   ]
  },
  {
   "cell_type": "markdown",
   "id": "e3156710",
   "metadata": {},
   "source": [
    "However, the original lists are not modified:"
   ]
  },
  {
   "cell_type": "code",
   "execution_count": 10,
   "id": "4e6f2cff",
   "metadata": {},
   "outputs": [
    {
     "name": "stdout",
     "output_type": "stream",
     "text": [
      "[1, 2, 3, 4]\n",
      "['one', 'two', 'three', 'four']\n",
      "[1, 2, 3, 4, 'one', 'two', 'three', 'four']\n"
     ]
    }
   ],
   "source": [
    "print(x1)\n",
    "\n",
    "print(x2)\n",
    "\n",
    "print(x1 + x2)"
   ]
  },
  {
   "cell_type": "markdown",
   "id": "ea7768cb",
   "metadata": {},
   "source": [
    "The `*` operator also **replicates** the entire content of the list. The result is returned as a list, and the original list is not modified."
   ]
  },
  {
   "cell_type": "code",
   "execution_count": 11,
   "id": "09dadc5b",
   "metadata": {},
   "outputs": [
    {
     "name": "stdout",
     "output_type": "stream",
     "text": [
      "[1, 2, 3, 4, 1, 2, 3, 4, 1, 2, 3, 4]\n",
      "<class 'list'>\n",
      "[1, 2, 3, 4]\n"
     ]
    }
   ],
   "source": [
    "print( 3 * x1 )\n",
    "\n",
    "print( type(3 * x1) )\n",
    "\n",
    "print(x1)"
   ]
  },
  {
   "cell_type": "markdown",
   "id": "38d85480",
   "metadata": {},
   "source": [
    "### Conclusion\n",
    "\n",
    "The `+` and `*` operators are **overloaded**. Their operation depends on the data types of the objects they are being applied to. We must therefore pay attention to the variables we are working with. **The results of basic arithmetic operations can change based on the data type!** If data types are not what we expect them to be, we can get surprising results! For example, let's say we want to multiply 4 with 8:"
   ]
  },
  {
   "cell_type": "code",
   "execution_count": 12,
   "id": "2ae0de36",
   "metadata": {},
   "outputs": [
    {
     "data": {
      "text/plain": [
       "32"
      ]
     },
     "execution_count": 12,
     "metadata": {},
     "output_type": "execute_result"
    }
   ],
   "source": [
    "4 * 8"
   ]
  },
  {
   "cell_type": "markdown",
   "id": "43f5dea6",
   "metadata": {},
   "source": [
    "However, what if we are working with a challenging task and we have so many lines of code we do not realize that the number `8` has been converted to a string, `'8'`. Python does not view these values as the same:"
   ]
  },
  {
   "cell_type": "code",
   "execution_count": 13,
   "id": "7dd44168",
   "metadata": {},
   "outputs": [
    {
     "data": {
      "text/plain": [
       "False"
      ]
     },
     "execution_count": 13,
     "metadata": {},
     "output_type": "execute_result"
    }
   ],
   "source": [
    "8 == '8'"
   ]
  },
  {
   "cell_type": "markdown",
   "id": "606a350c",
   "metadata": {},
   "source": [
    "The basic arithmetic operation of 4 multiplied with 8 now returns:"
   ]
  },
  {
   "cell_type": "code",
   "execution_count": 14,
   "id": "2a2ac4fb",
   "metadata": {},
   "outputs": [
    {
     "data": {
      "text/plain": [
       "'8888'"
      ]
     },
     "execution_count": 14,
     "metadata": {},
     "output_type": "execute_result"
    }
   ],
   "source": [
    "4 * '8'"
   ]
  },
  {
   "cell_type": "markdown",
   "id": "4909c349",
   "metadata": {},
   "source": [
    "It is critical that we pay attention to not only the operations we are executing, but the data types we are applying the operations to!"
   ]
  },
  {
   "cell_type": "code",
   "execution_count": null,
   "id": "9dcfaf82",
   "metadata": {},
   "outputs": [],
   "source": []
  }
 ],
 "metadata": {
  "kernelspec": {
   "display_name": "Python 3 (ipykernel)",
   "language": "python",
   "name": "python3"
  },
  "language_info": {
   "codemirror_mode": {
    "name": "ipython",
    "version": 3
   },
   "file_extension": ".py",
   "mimetype": "text/x-python",
   "name": "python",
   "nbconvert_exporter": "python",
   "pygments_lexer": "ipython3",
   "version": "3.8.17"
  }
 },
 "nbformat": 4,
 "nbformat_minor": 5
}
