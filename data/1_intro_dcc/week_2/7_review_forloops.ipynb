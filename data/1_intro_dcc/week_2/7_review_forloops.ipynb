{
 "cells": [
  {
   "cell_type": "markdown",
   "metadata": {},
   "source": [
    "## CMPINF 2100 \n",
    "\n",
    "### Review Iteration with for-loops\n",
    "## Overview\n",
    "Review the basic structure of a for-loop, focusing on:\n",
    "- Idents and spacing\n",
    "- Iterating variable\n",
    "- Sequence\n",
    "- How the iterating variables changes in the for-loop"
   ]
  },
  {
   "cell_type": "code",
   "execution_count": 1,
   "metadata": {},
   "outputs": [
    {
     "name": "stdout",
     "output_type": "stream",
     "text": [
      "0\n",
      "1\n",
      "2\n",
      "3\n",
      "4\n",
      "5\n",
      "6\n"
     ]
    }
   ],
   "source": [
    "for n in range(7):\n",
    "    print(n)"
   ]
  },
  {
   "cell_type": "code",
   "execution_count": 2,
   "metadata": {},
   "outputs": [
    {
     "name": "stdout",
     "output_type": "stream",
     "text": [
      "Variable   Type    Data/Info\n",
      "----------------------------\n",
      "n          int     6\n"
     ]
    }
   ],
   "source": [
    "%whos"
   ]
  },
  {
   "cell_type": "code",
   "execution_count": 6,
   "metadata": {},
   "outputs": [
    {
     "name": "stdout",
     "output_type": "stream",
     "text": [
      "Outer loop: 0\n",
      "-------------\n",
      "Inner loop: 0\n",
      "Inner loop: 1\n",
      "Inner loop: 2\n",
      "Inner loop: 3\n",
      "Inner loop: 4\n",
      "=============\n",
      "Outer loop: 1\n",
      "-------------\n",
      "Inner loop: 0\n",
      "Inner loop: 1\n",
      "Inner loop: 2\n",
      "Inner loop: 3\n",
      "Inner loop: 4\n",
      "=============\n",
      "Outer loop: 2\n",
      "-------------\n",
      "Inner loop: 0\n",
      "Inner loop: 1\n",
      "Inner loop: 2\n",
      "Inner loop: 3\n",
      "Inner loop: 4\n",
      "=============\n"
     ]
    }
   ],
   "source": [
    "# Nested for-loops - iterate over 2 sequences\n",
    "for o1 in range(3):\n",
    "    print(\"Outer loop:\", o1)\n",
    "    print(\"-------------\")\n",
    "    for i1 in range(5):\n",
    "        # this is inside the inner for loop\n",
    "        print(\"Inner loop:\", i1)\n",
    "    print(\"=============\")"
   ]
  },
  {
   "cell_type": "code",
   "execution_count": null,
   "metadata": {},
   "outputs": [],
   "source": []
  }
 ],
 "metadata": {
  "kernelspec": {
   "display_name": ".venv",
   "language": "python",
   "name": "python3"
  },
  "language_info": {
   "codemirror_mode": {
    "name": "ipython",
    "version": 3
   },
   "file_extension": ".py",
   "mimetype": "text/x-python",
   "name": "python",
   "nbconvert_exporter": "python",
   "pygments_lexer": "ipython3",
   "version": "3.13.0"
  }
 },
 "nbformat": 4,
 "nbformat_minor": 2
}
