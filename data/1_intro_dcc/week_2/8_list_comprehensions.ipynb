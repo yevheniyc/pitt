{
 "cells": [
  {
   "cell_type": "markdown",
   "metadata": {},
   "source": [
    "## CMPINF 2100 Week 02\n",
    "\n",
    "### List Comprehensions\n",
    "\n",
    "## Overview\n",
    "\n",
    "This notebook contrasts for-loops with the more efficient and streamlined list comprehension. The notebook begins by showing a few short comings associated with the traditional for-loop to motivate why we would consider using an alternative **iteration** procedure.\n",
    "\n",
    "## For-loop pitfalls\n",
    "\n",
    "Create a list of integers."
   ]
  },
  {
   "cell_type": "code",
   "execution_count": 1,
   "metadata": {},
   "outputs": [
    {
     "name": "stdout",
     "output_type": "stream",
     "text": [
      "[1, 2, 3, 4, 5]\n"
     ]
    }
   ],
   "source": [
    "my_list = [1, 2, 3, 4, 5]\n",
    "\n",
    "print( my_list )"
   ]
  },
  {
   "cell_type": "markdown",
   "metadata": {},
   "source": [
    "Suppose we want to square every element in the list and store the result to another list. We can do that by initializing a new list, iterating over the elements of the original list, squaring those elements, and appending the result to the new list. This approach is shown in the cell below. The iterating variable, `i`, is the value of the element in the `my_list` list."
   ]
  },
  {
   "cell_type": "code",
   "execution_count": 2,
   "metadata": {},
   "outputs": [],
   "source": [
    "# square every element in the list\n",
    "\n",
    "my_list_squared = [] # initialize\n",
    "\n",
    "for i in my_list:\n",
    "    my_list_squared.append(i ** 2)"
   ]
  },
  {
   "cell_type": "code",
   "execution_count": 3,
   "metadata": {},
   "outputs": [
    {
     "name": "stdout",
     "output_type": "stream",
     "text": [
      "[1, 4, 9, 16, 25]\n"
     ]
    }
   ],
   "source": [
    "print( my_list_squared )"
   ]
  },
  {
   "cell_type": "markdown",
   "metadata": {},
   "source": [
    "What happens if we forget to initialize the new list though? We will get an error! The body of the for-loop in the below applies the `.append()` method to the `squared_again` object. However, the `squared_again` object does not exist in the environment. Thus, there is no variable to apply `.append()` to! This throws an error!"
   ]
  },
  {
   "cell_type": "code",
   "execution_count": 4,
   "metadata": {},
   "outputs": [
    {
     "ename": "NameError",
     "evalue": "name 'squared_again' is not defined",
     "output_type": "error",
     "traceback": [
      "\u001b[1;31m---------------------------------------------------------------------------\u001b[0m",
      "\u001b[1;31mNameError\u001b[0m                                 Traceback (most recent call last)",
      "Cell \u001b[1;32mIn[4], line 2\u001b[0m\n\u001b[0;32m      1\u001b[0m \u001b[38;5;28;01mfor\u001b[39;00m i \u001b[38;5;129;01min\u001b[39;00m my_list:\n\u001b[1;32m----> 2\u001b[0m     \u001b[43msquared_again\u001b[49m\u001b[38;5;241m.\u001b[39mappend(i \u001b[38;5;241m*\u001b[39m\u001b[38;5;241m*\u001b[39m \u001b[38;5;241m2\u001b[39m)\n",
      "\u001b[1;31mNameError\u001b[0m: name 'squared_again' is not defined"
     ]
    }
   ],
   "source": [
    "for i in my_list:\n",
    "    squared_again.append(i ** 2)"
   ]
  },
  {
   "cell_type": "markdown",
   "metadata": {},
   "source": [
    "The approach above is using the `.append()` method of a list, `squared_again`, which does not exist in memory. The `%whos` magic command confirms `squared_again` does not exist."
   ]
  },
  {
   "cell_type": "code",
   "execution_count": 5,
   "metadata": {},
   "outputs": [
    {
     "name": "stdout",
     "output_type": "stream",
     "text": [
      "Variable          Type    Data/Info\n",
      "-----------------------------------\n",
      "i                 int     1\n",
      "my_list           list    n=5\n",
      "my_list_squared   list    n=5\n"
     ]
    }
   ],
   "source": [
    "%whos"
   ]
  },
  {
   "cell_type": "markdown",
   "metadata": {},
   "source": [
    "One way to overcome this is issue is to define a function. The new list is initialized within the function before iterating over the user provided list with a for-loop."
   ]
  },
  {
   "cell_type": "code",
   "execution_count": 6,
   "metadata": {},
   "outputs": [],
   "source": [
    "def square_all_elements(input_list):\n",
    "    out_list = [] # initialize output list\n",
    "    for i in input_list:\n",
    "        out_list.append(i ** 2)\n",
    "    return out_list"
   ]
  },
  {
   "cell_type": "markdown",
   "metadata": {},
   "source": [
    "The function makes it easy to apply the operation to new cases. We do not have to reinitialize an object over and over again. This saves us a step and prevents possible errors from occuring."
   ]
  },
  {
   "cell_type": "code",
   "execution_count": 7,
   "metadata": {},
   "outputs": [
    {
     "data": {
      "text/plain": [
       "[1, 4, 9, 16, 25]"
      ]
     },
     "execution_count": 7,
     "metadata": {},
     "output_type": "execute_result"
    }
   ],
   "source": [
    "square_all_elements(my_list)"
   ]
  },
  {
   "cell_type": "code",
   "execution_count": 8,
   "metadata": {},
   "outputs": [
    {
     "data": {
      "text/plain": [
       "[4, 25, 144]"
      ]
     },
     "execution_count": 8,
     "metadata": {},
     "output_type": "execute_result"
    }
   ],
   "source": [
    "square_all_elements([2, 5, 12])"
   ]
  },
  {
   "cell_type": "markdown",
   "metadata": {},
   "source": [
    "## List comprehensions\n",
    "\n",
    "However, a downside of the function based approach is we have to go through extra effort of defining a function for executing a relatively basic task. After all, the above example consisted of squaring elements. Why do we need to define a function to perform something that sounds so simple? We need to be worried about appropriately commenting and naming the function that way we know what it does and the data types it accepts. \n",
    "\n",
    "Instead, a more streamlined approach is the **list comprehension**. The list comprehension does not require any initializations. List comprehensions can seem tricky and strange at first. However, once you master their operation you will find that they simplify your code. \n",
    "\n",
    "List comprehensions require that we breakdown the iteration process into the 3 main ingredients:\n",
    "* the action to perform\n",
    "* the variable to iterate with\n",
    "* the sequence to iterate over\n",
    "\n",
    "We unpack those 3 main ingredients and write them \"in a single line\" using the following structure:\n",
    "\n",
    "`<output> = [ <action to perform using a variable> for <variable> in <sequence> ]`\n",
    "\n",
    "Please note the `<>` is a placeholder. The word/phrase within `<>` is what we will change depending on the situation."
   ]
  },
  {
   "cell_type": "markdown",
   "metadata": {},
   "source": [
    "Let's see how we can make use of the list comprehension to square the elements within our list. The action is squaring a value, such as `i`. The value `i` is the variable we are iterating within. The value, `i`, comes from a sequence of values **in** `my_list`. Thus, our key ingredients are squaring the value, `i ** 2`, **for** each value **in** `my_list`. Those ingredients are compiled into the list comprehension syntax below. The result is assigned to the `squared_comp` object."
   ]
  },
  {
   "cell_type": "code",
   "execution_count": 9,
   "metadata": {},
   "outputs": [],
   "source": [
    "squared_comp = [ i ** 2 for i in my_list ]"
   ]
  },
  {
   "cell_type": "markdown",
   "metadata": {},
   "source": [
    "List comprehensions are lists! That's why the 3 ingredients were surrounded by `[]` in the above cell."
   ]
  },
  {
   "cell_type": "code",
   "execution_count": 10,
   "metadata": {},
   "outputs": [
    {
     "name": "stdout",
     "output_type": "stream",
     "text": [
      "<class 'list'>\n"
     ]
    }
   ],
   "source": [
    "print( type(squared_comp) )"
   ]
  },
  {
   "cell_type": "markdown",
   "metadata": {},
   "source": [
    "The elements within the returned list have values equal to the result of the action. The squared values are printed below."
   ]
  },
  {
   "cell_type": "code",
   "execution_count": 11,
   "metadata": {},
   "outputs": [
    {
     "name": "stdout",
     "output_type": "stream",
     "text": [
      "[1, 4, 9, 16, 25]\n"
     ]
    }
   ],
   "source": [
    "print( squared_comp )"
   ]
  },
  {
   "cell_type": "markdown",
   "metadata": {},
   "source": [
    "With the list comprehension we do not have to worry about initialization! This makes it easier to apply the structure and operation to a new situation compared with the for-loop approach. For example, let's square every element in a different list."
   ]
  },
  {
   "cell_type": "code",
   "execution_count": 12,
   "metadata": {},
   "outputs": [
    {
     "data": {
      "text/plain": [
       "[4, 25, 144]"
      ]
     },
     "execution_count": 12,
     "metadata": {},
     "output_type": "execute_result"
    }
   ],
   "source": [
    "[ i ** 2 for i in [2, 5, 12] ]"
   ]
  },
  {
   "cell_type": "markdown",
   "metadata": {},
   "source": [
    "The real benefit of list comprehensions is that the **action** can be whatever we want! For example, let's consider multiplying 3 by a value. That value will be 2 raised to a power (an exponent). The cell below multiplies 3 by 2 raised to the 3rd power."
   ]
  },
  {
   "cell_type": "code",
   "execution_count": 13,
   "metadata": {},
   "outputs": [
    {
     "data": {
      "text/plain": [
       "24"
      ]
     },
     "execution_count": 13,
     "metadata": {},
     "output_type": "execute_result"
    }
   ],
   "source": [
    "3 * (2 ** 3)"
   ]
  },
  {
   "cell_type": "markdown",
   "metadata": {},
   "source": [
    "The action is performing the following steps:"
   ]
  },
  {
   "cell_type": "code",
   "execution_count": 14,
   "metadata": {},
   "outputs": [
    {
     "data": {
      "text/plain": [
       "24"
      ]
     },
     "execution_count": 14,
     "metadata": {},
     "output_type": "execute_result"
    }
   ],
   "source": [
    "3 * (2 * 2 * 2)"
   ]
  },
  {
   "cell_type": "markdown",
   "metadata": {},
   "source": [
    "However, I want to iterate over different varying powers! I want to start with with the 0th power and end with the 5th power. Let's use a for-loop first to make it easy to print the calculatioins performed at each step:"
   ]
  },
  {
   "cell_type": "code",
   "execution_count": 16,
   "metadata": {},
   "outputs": [
    {
     "name": "stdout",
     "output_type": "stream",
     "text": [
      "3 * (2 ** 0) = 3\n",
      "3 * (2 ** 1) = 6\n",
      "3 * (2 ** 2) = 12\n",
      "3 * (2 ** 3) = 24\n",
      "3 * (2 ** 4) = 48\n",
      "3 * (2 ** 5) = 96\n"
     ]
    }
   ],
   "source": [
    "for d in range(6):\n",
    "    print( \"3 * (2 ** %d) = %d\" % (d, 3 * (2 ** d) ) )"
   ]
  },
  {
   "cell_type": "markdown",
   "metadata": {},
   "source": [
    "The for-loop works, but the results are NOT stored. The results are simply printed! We need to initialize a list for storage or use a function to handle all operations for us. However, the action performed within the for-loop is **DIFFERENT** from our previous action of squaring elements! Thus, we **cannot** use `square_all_elements()` function we previously created! \n",
    "\n",
    "However, a list comprehension is capable of applying the action for each value of the iterating variable! The results are stored in a list without any initialization!"
   ]
  },
  {
   "cell_type": "code",
   "execution_count": 18,
   "metadata": {},
   "outputs": [],
   "source": [
    "show_math = [ \"3 * (2 ** %d) = %d\" % (d, 3 * (2 ** d) ) for d in range(6) ]"
   ]
  },
  {
   "cell_type": "code",
   "execution_count": 19,
   "metadata": {},
   "outputs": [
    {
     "data": {
      "text/plain": [
       "['3 * (2 ** 0) = 3',\n",
       " '3 * (2 ** 1) = 6',\n",
       " '3 * (2 ** 2) = 12',\n",
       " '3 * (2 ** 3) = 24',\n",
       " '3 * (2 ** 4) = 48',\n",
       " '3 * (2 ** 5) = 96']"
      ]
     },
     "execution_count": 19,
     "metadata": {},
     "output_type": "execute_result"
    }
   ],
   "source": [
    "show_math"
   ]
  },
  {
   "cell_type": "markdown",
   "metadata": {},
   "source": [
    "The action can be simpler though. The action could be just the returned value, rather than the string which details the mathematical steps."
   ]
  },
  {
   "cell_type": "code",
   "execution_count": 20,
   "metadata": {},
   "outputs": [],
   "source": [
    "just_results = [ 3 * (2 ** d) for d in range(6) ]"
   ]
  },
  {
   "cell_type": "code",
   "execution_count": 21,
   "metadata": {},
   "outputs": [
    {
     "data": {
      "text/plain": [
       "[3, 6, 12, 24, 48, 96]"
      ]
     },
     "execution_count": 21,
     "metadata": {},
     "output_type": "execute_result"
    }
   ],
   "source": [
    "just_results"
   ]
  },
  {
   "cell_type": "markdown",
   "metadata": {},
   "source": [
    "We can also easily change the sequence we iterate over! The iteration can be applied up to the 10th power:"
   ]
  },
  {
   "cell_type": "code",
   "execution_count": 22,
   "metadata": {},
   "outputs": [
    {
     "data": {
      "text/plain": [
       "[3, 6, 12, 24, 48, 96, 192, 384, 768, 1536, 3072]"
      ]
     },
     "execution_count": 22,
     "metadata": {},
     "output_type": "execute_result"
    }
   ],
   "source": [
    "[ 3 * (2 ** d) for d in range(11) ]"
   ]
  },
  {
   "cell_type": "markdown",
   "metadata": {},
   "source": [
    "## Why does this matter?\n",
    "\n",
    "For-loops are essential programming tools. For-loops allow us to repeat an action many, many, many times. We do not need to copy and paste code. We can let the for-loop handle the procedure for us. However, for-loops are tedious. For-loops require careful thought and planning to properly execute. Sometimes we just want to accomplish a task in a single line of code! The list comprehension provides that streamlined syntax for applying actions over sequences!"
   ]
  },
  {
   "cell_type": "code",
   "execution_count": null,
   "metadata": {},
   "outputs": [],
   "source": []
  }
 ],
 "metadata": {
  "kernelspec": {
   "display_name": "Python 3 (ipykernel)",
   "language": "python",
   "name": "python3"
  },
  "language_info": {
   "codemirror_mode": {
    "name": "ipython",
    "version": 3
   },
   "file_extension": ".py",
   "mimetype": "text/x-python",
   "name": "python",
   "nbconvert_exporter": "python",
   "pygments_lexer": "ipython3",
   "version": "3.8.17"
  }
 },
 "nbformat": 4,
 "nbformat_minor": 4
}
